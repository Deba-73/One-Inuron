{
 "cells": [
  {
   "cell_type": "code",
   "execution_count": 0,
   "metadata": {
    "colab": {},
    "colab_type": "code",
    "id": "Iah3FBzVg5fH"
   },
   "outputs": [],
   "source": []
  },
  {
   "cell_type": "markdown",
   "metadata": {
    "colab_type": "text",
    "id": "V7i7Mb3WKWtI"
   },
   "source": [
    "<h1><center><strong>Feature Scaling IN___D</strong></center></h1>"
   ]
  },
  {
   "cell_type": "markdown",
   "metadata": {
    "colab_type": "text",
    "id": "LKqoTLYsbj63"
   },
   "source": [
    "# **Table of Contents**\n",
    "\n",
    "1. [Introduction](#Section1)<br><br>\n",
    "2. [Standard Scaling](#Section2)<br><br>\n",
    "3. [Min-Max Scaling](#Section3)<br><br>\n",
    "4. [Robust Scaling](#Section4)<br><br>\n",
    "5. [MaxAbs Scaling](#Section5)<br><br>\n",
    "6. [Normalizing](#Section6)"
   ]
  },
  {
   "cell_type": "markdown",
   "metadata": {
    "colab_type": "text",
    "id": "s_3t0NpAw8Nk"
   },
   "source": [
    "<a id = Section1></a>\n",
    "### **1. Introduction**"
   ]
  },
  {
   "cell_type": "markdown",
   "metadata": {
    "colab_type": "text",
    "id": "ZDuVrB3cZ9_A"
   },
   "source": [
    "- **Standardization**, a type of **feature scaling**, involves **rescaling** the **features** such that they have the **properties** of a **standard normal distribution** with a **mean** of **zero** and a **standard deviation** of **one**.\n",
    "\n",
    "<br> \n",
    "\n",
    "- **Need** of **Feature Scaling**:\n",
    "\n",
    "  - Our **preprocessed data** may **contain attributes** with a **mixtures** of **scales** for **various quantities** such as dollars, kilograms and sales volume.\n",
    "\n",
    "  - Many **machine learning methods expect** or are **more effective** if the **data attributes** have the **same scale**.\n",
    "\n",
    "  - Hence, **feature scaling** can be an **important** preprocessing step for many machine learning algorithms.\n"
   ]
  },
  {
   "cell_type": "code",
   "execution_count": 1,
   "metadata": {
    "colab": {},
    "colab_type": "code",
    "id": "PfVS0JY1Z_yN"
   },
   "outputs": [],
   "source": [
    "import numpy as np\n",
    "import pandas as pd\n",
    "\n",
    "import matplotlib.pyplot as plt\n",
    "%matplotlib inline\n",
    "\n",
    "import seaborn as sns"
   ]
  },
  {
   "cell_type": "markdown",
   "metadata": {
    "colab_type": "text",
    "id": "Pg8zC4mCZ9G-"
   },
   "source": [
    "<a id = Section2></a>\n",
    "### **2. Standard Scaling**"
   ]
  },
  {
   "cell_type": "markdown",
   "metadata": {
    "colab_type": "text",
    "id": "Nxe-Jklmas_u"
   },
   "source": [
    "- The `StandardScaler` **assumes** your **data** is **normally distributed within each feature** and will **scale them** such that the **distribution** is now **centred around 0**, with a **standard deviation of 1**.\n",
    "\n",
    "- If **data** is **not normally distributed**, this is **not** the **best scaler** to use."
   ]
  },
  {
   "cell_type": "markdown",
   "metadata": {
    "colab_type": "text",
    "id": "x4hSPZhfnIvl"
   },
   "source": [
    "- ### $x_{scaled} = \\dfrac{x_i – mean(x)}{stdev(x)}$"
   ]
  },
  {
   "cell_type": "code",
   "execution_count": 2,
   "metadata": {
    "colab": {},
    "colab_type": "code",
    "id": "8FzPb_Ztapj3"
   },
   "outputs": [],
   "source": [
    "from sklearn.preprocessing import StandardScaler"
   ]
  },
  {
   "cell_type": "code",
   "execution_count": 3,
   "metadata": {
    "colab": {},
    "colab_type": "code",
    "id": "TreXbcfjapfQ"
   },
   "outputs": [],
   "source": [
    "np.random.seed(1)"
   ]
  },
  {
   "cell_type": "code",
   "execution_count": 4,
   "metadata": {
    "colab": {},
    "colab_type": "code",
    "id": "cBeJ_34JbE2c"
   },
   "outputs": [],
   "source": [
    "df = pd.DataFrame({'x1': np.random.normal(0, 2, 10000),\n",
    "                   'x2': np.random.normal(5, 3, 10000),\n",
    "                   'x3': np.random.normal(-5, 5, 10000)})"
   ]
  },
  {
   "cell_type": "code",
   "execution_count": 5,
   "metadata": {
    "colab": {
     "base_uri": "https://localhost:8080/",
     "height": 195
    },
    "colab_type": "code",
    "id": "cm1-t4hZbExB",
    "outputId": "cf8f72d0-8048-4ece-c154-2b9717d375ac"
   },
   "outputs": [
    {
     "data": {
      "text/html": [
       "<div>\n",
       "<style scoped>\n",
       "    .dataframe tbody tr th:only-of-type {\n",
       "        vertical-align: middle;\n",
       "    }\n",
       "\n",
       "    .dataframe tbody tr th {\n",
       "        vertical-align: top;\n",
       "    }\n",
       "\n",
       "    .dataframe thead th {\n",
       "        text-align: right;\n",
       "    }\n",
       "</style>\n",
       "<table border=\"1\" class=\"dataframe\">\n",
       "  <thead>\n",
       "    <tr style=\"text-align: right;\">\n",
       "      <th></th>\n",
       "      <th>x1</th>\n",
       "      <th>x2</th>\n",
       "      <th>x3</th>\n",
       "    </tr>\n",
       "  </thead>\n",
       "  <tbody>\n",
       "    <tr>\n",
       "      <th>0</th>\n",
       "      <td>3.248691</td>\n",
       "      <td>4.632578</td>\n",
       "      <td>-14.657819</td>\n",
       "    </tr>\n",
       "    <tr>\n",
       "      <th>1</th>\n",
       "      <td>-1.223513</td>\n",
       "      <td>5.684509</td>\n",
       "      <td>-5.802131</td>\n",
       "    </tr>\n",
       "    <tr>\n",
       "      <th>2</th>\n",
       "      <td>-1.056344</td>\n",
       "      <td>3.943085</td>\n",
       "      <td>-9.161098</td>\n",
       "    </tr>\n",
       "    <tr>\n",
       "      <th>3</th>\n",
       "      <td>-2.145937</td>\n",
       "      <td>2.508340</td>\n",
       "      <td>-6.030558</td>\n",
       "    </tr>\n",
       "    <tr>\n",
       "      <th>4</th>\n",
       "      <td>1.730815</td>\n",
       "      <td>4.216731</td>\n",
       "      <td>0.131275</td>\n",
       "    </tr>\n",
       "  </tbody>\n",
       "</table>\n",
       "</div>"
      ],
      "text/plain": [
       "         x1        x2         x3\n",
       "0  3.248691  4.632578 -14.657819\n",
       "1 -1.223513  5.684509  -5.802131\n",
       "2 -1.056344  3.943085  -9.161098\n",
       "3 -2.145937  2.508340  -6.030558\n",
       "4  1.730815  4.216731   0.131275"
      ]
     },
     "execution_count": 5,
     "metadata": {},
     "output_type": "execute_result"
    }
   ],
   "source": [
    "df.head()"
   ]
  },
  {
   "cell_type": "markdown",
   "metadata": {
    "colab_type": "text",
    "id": "y531h7I_yb-_"
   },
   "source": [
    "- **Creating** the **StandardScaler** object and **fitting** it on our dataframe."
   ]
  },
  {
   "cell_type": "code",
   "execution_count": 6,
   "metadata": {
    "colab": {},
    "colab_type": "code",
    "id": "tDlIg0IKbWR5"
   },
   "outputs": [],
   "source": [
    "scaler = StandardScaler()\n",
    "scaled_df = scaler.fit_transform(df)"
   ]
  },
  {
   "cell_type": "code",
   "execution_count": 7,
   "metadata": {
    "colab": {
     "base_uri": "https://localhost:8080/",
     "height": 195
    },
    "colab_type": "code",
    "id": "GGRfjAhHbYf9",
    "outputId": "a49d1479-cca7-4c41-8fa4-557adba46b83"
   },
   "outputs": [
    {
     "data": {
      "text/html": [
       "<div>\n",
       "<style scoped>\n",
       "    .dataframe tbody tr th:only-of-type {\n",
       "        vertical-align: middle;\n",
       "    }\n",
       "\n",
       "    .dataframe tbody tr th {\n",
       "        vertical-align: top;\n",
       "    }\n",
       "\n",
       "    .dataframe thead th {\n",
       "        text-align: right;\n",
       "    }\n",
       "</style>\n",
       "<table border=\"1\" class=\"dataframe\">\n",
       "  <thead>\n",
       "    <tr style=\"text-align: right;\">\n",
       "      <th></th>\n",
       "      <th>x1</th>\n",
       "      <th>x2</th>\n",
       "      <th>x3</th>\n",
       "    </tr>\n",
       "  </thead>\n",
       "  <tbody>\n",
       "    <tr>\n",
       "      <th>0</th>\n",
       "      <td>1.616535</td>\n",
       "      <td>-0.131753</td>\n",
       "      <td>-1.924757</td>\n",
       "    </tr>\n",
       "    <tr>\n",
       "      <th>1</th>\n",
       "      <td>-0.622285</td>\n",
       "      <td>0.218475</td>\n",
       "      <td>-0.146416</td>\n",
       "    </tr>\n",
       "    <tr>\n",
       "      <th>2</th>\n",
       "      <td>-0.538598</td>\n",
       "      <td>-0.361311</td>\n",
       "      <td>-0.820942</td>\n",
       "    </tr>\n",
       "    <tr>\n",
       "      <th>3</th>\n",
       "      <td>-1.084057</td>\n",
       "      <td>-0.838991</td>\n",
       "      <td>-0.192287</td>\n",
       "    </tr>\n",
       "    <tr>\n",
       "      <th>4</th>\n",
       "      <td>0.856675</td>\n",
       "      <td>-0.270204</td>\n",
       "      <td>1.045092</td>\n",
       "    </tr>\n",
       "  </tbody>\n",
       "</table>\n",
       "</div>"
      ],
      "text/plain": [
       "         x1        x2        x3\n",
       "0  1.616535 -0.131753 -1.924757\n",
       "1 -0.622285  0.218475 -0.146416\n",
       "2 -0.538598 -0.361311 -0.820942\n",
       "3 -1.084057 -0.838991 -0.192287\n",
       "4  0.856675 -0.270204  1.045092"
      ]
     },
     "execution_count": 7,
     "metadata": {},
     "output_type": "execute_result"
    }
   ],
   "source": [
    "scaled_df = pd.DataFrame(scaled_df, columns=['x1', 'x2', 'x3'])\n",
    "scaled_df.head()"
   ]
  },
  {
   "cell_type": "markdown",
   "metadata": {
    "colab_type": "text",
    "id": "3R2C6RSoylSJ"
   },
   "source": [
    "- **Plotting** the features **before** and **after Standard Scaling**."
   ]
  },
  {
   "cell_type": "code",
   "execution_count": 8,
   "metadata": {
    "colab": {
     "base_uri": "https://localhost:8080/",
     "height": 355
    },
    "colab_type": "code",
    "id": "5X8jC6IIbErs",
    "outputId": "87d043f7-16fd-49e6-8117-af8b490caae9"
   },
   "outputs": [
    {
     "data": {
      "text/plain": [
       "<AxesSubplot:title={'center':'After Standard Scaler'}, xlabel='x1', ylabel='Density'>"
      ]
     },
     "execution_count": 8,
     "metadata": {},
     "output_type": "execute_result"
    },
    {
     "data": {
      "image/png": "[encoded data removed]",
      "text/plain": [
       "<Figure size 432x360 with 2 Axes>"
      ]
     },
     "metadata": {
      "needs_background": "light"
     },
     "output_type": "display_data"
    }
   ],
   "source": [
    "fig, (ax1, ax2) = plt.subplots(ncols=2, figsize=(6, 5))\n",
    "\n",
    "ax1.set_title('Before Scaling')\n",
    "sns.kdeplot(df['x1'], ax=ax1)\n",
    "sns.kdeplot(df['x2'], ax=ax1)\n",
    "sns.kdeplot(df['x3'], ax=ax1)\n",
    "\n",
    "ax2.set_title('After Standard Scaler')\n",
    "sns.kdeplot(scaled_df['x1'], ax=ax2)\n",
    "sns.kdeplot(scaled_df['x2'], ax=ax2)\n",
    "sns.kdeplot(scaled_df['x3'], ax=ax2)"
   ]
  },
  {
   "cell_type": "markdown",
   "metadata": {
    "colab_type": "text",
    "id": "aBlBwdElbc6Y"
   },
   "source": [
    "- **All features** are now on the **same scale** relative to one another."
   ]
  },
  {
   "cell_type": "markdown",
   "metadata": {
    "colab_type": "text",
    "id": "oFssvZ7xaFQX"
   },
   "source": [
    "<a id = Section3></a>\n",
    "### **3. Min-Max Scaling**"
   ]
  },
  {
   "cell_type": "markdown",
   "metadata": {
    "colab_type": "text",
    "id": "i55DyoG7bhz1"
   },
   "source": [
    "- It essentially **shrinks** the **range** such that the range is now **between 0 and 1** (or **-1 to 1 if** there are **negative values**).\n",
    "\n",
    "- This scaler **works better** for cases in which the standard scaler might not work so well, for example, **if** the **distribution** is **not Gaussian** or the **standard deviation** is **very small**."
   ]
  },
  {
   "cell_type": "markdown",
   "metadata": {
    "colab_type": "text",
    "id": "wUCSZ2asnI6R"
   },
   "source": [
    "- ### $x_{scaled} = \\dfrac{x_i – min(x)}{max(x) – min(x)}$"
   ]
  },
  {
   "cell_type": "markdown",
   "metadata": {
    "colab_type": "text",
    "id": "Kulh22KY0XvQ"
   },
   "source": [
    "- However, it is **sensitive to outliers**."
   ]
  },
  {
   "cell_type": "code",
   "execution_count": 9,
   "metadata": {
    "colab": {},
    "colab_type": "code",
    "id": "-Dt3506NbsdS"
   },
   "outputs": [],
   "source": [
    "from sklearn.preprocessing import MinMaxScaler"
   ]
  },
  {
   "cell_type": "code",
   "execution_count": 10,
   "metadata": {
    "colab": {},
    "colab_type": "code",
    "id": "nrM3GdAYaouN"
   },
   "outputs": [],
   "source": [
    "df = pd.DataFrame({# positive skew\n",
    "                   'x1': np.random.chisquare(8, 1000),\n",
    "                   # negative skew\n",
    "                   'x2': np.random.beta(8, 2, 1000) * 40,\n",
    "                   # no skew\n",
    "                   'x3': np.random.normal(50, 3, 1000)})"
   ]
  },
  {
   "cell_type": "code",
   "execution_count": 11,
   "metadata": {
    "colab": {
     "base_uri": "https://localhost:8080/",
     "height": 195
    },
    "colab_type": "code",
    "id": "2h7lLX5Lb_S1",
    "outputId": "573b7c2f-33a1-48e7-c8f1-70c1d9b3e1d3"
   },
   "outputs": [
    {
     "data": {
      "text/html": [
       "<div>\n",
       "<style scoped>\n",
       "    .dataframe tbody tr th:only-of-type {\n",
       "        vertical-align: middle;\n",
       "    }\n",
       "\n",
       "    .dataframe tbody tr th {\n",
       "        vertical-align: top;\n",
       "    }\n",
       "\n",
       "    .dataframe thead th {\n",
       "        text-align: right;\n",
       "    }\n",
       "</style>\n",
       "<table border=\"1\" class=\"dataframe\">\n",
       "  <thead>\n",
       "    <tr style=\"text-align: right;\">\n",
       "      <th></th>\n",
       "      <th>x1</th>\n",
       "      <th>x2</th>\n",
       "      <th>x3</th>\n",
       "    </tr>\n",
       "  </thead>\n",
       "  <tbody>\n",
       "    <tr>\n",
       "      <th>0</th>\n",
       "      <td>8.913396</td>\n",
       "      <td>33.282653</td>\n",
       "      <td>54.509849</td>\n",
       "    </tr>\n",
       "    <tr>\n",
       "      <th>1</th>\n",
       "      <td>5.583017</td>\n",
       "      <td>38.986294</td>\n",
       "      <td>52.473472</td>\n",
       "    </tr>\n",
       "    <tr>\n",
       "      <th>2</th>\n",
       "      <td>19.713205</td>\n",
       "      <td>26.377055</td>\n",
       "      <td>48.803613</td>\n",
       "    </tr>\n",
       "    <tr>\n",
       "      <th>3</th>\n",
       "      <td>23.293714</td>\n",
       "      <td>31.520740</td>\n",
       "      <td>50.593609</td>\n",
       "    </tr>\n",
       "    <tr>\n",
       "      <th>4</th>\n",
       "      <td>11.508381</td>\n",
       "      <td>38.646724</td>\n",
       "      <td>49.702286</td>\n",
       "    </tr>\n",
       "  </tbody>\n",
       "</table>\n",
       "</div>"
      ],
      "text/plain": [
       "          x1         x2         x3\n",
       "0   8.913396  33.282653  54.509849\n",
       "1   5.583017  38.986294  52.473472\n",
       "2  19.713205  26.377055  48.803613\n",
       "3  23.293714  31.520740  50.593609\n",
       "4  11.508381  38.646724  49.702286"
      ]
     },
     "execution_count": 11,
     "metadata": {},
     "output_type": "execute_result"
    }
   ],
   "source": [
    "df.head()"
   ]
  },
  {
   "cell_type": "markdown",
   "metadata": {
    "colab_type": "text",
    "id": "v7obRn_3zXSr"
   },
   "source": [
    "- **Creating** the **MinMaxScaler** object and **fitting** it on our dataframe."
   ]
  },
  {
   "cell_type": "code",
   "execution_count": 12,
   "metadata": {
    "colab": {},
    "colab_type": "code",
    "id": "3l51wTLLcAcX"
   },
   "outputs": [],
   "source": [
    "scaler = MinMaxScaler()\n",
    "scaled_df = scaler.fit_transform(df)"
   ]
  },
  {
   "cell_type": "code",
   "execution_count": 13,
   "metadata": {
    "colab": {
     "base_uri": "https://localhost:8080/",
     "height": 195
    },
    "colab_type": "code",
    "id": "SPqxHR1VcAXG",
    "outputId": "918f75cc-26d4-4714-93ba-d32d76df5fdd"
   },
   "outputs": [
    {
     "data": {
      "text/html": [
       "<div>\n",
       "<style scoped>\n",
       "    .dataframe tbody tr th:only-of-type {\n",
       "        vertical-align: middle;\n",
       "    }\n",
       "\n",
       "    .dataframe tbody tr th {\n",
       "        vertical-align: top;\n",
       "    }\n",
       "\n",
       "    .dataframe thead th {\n",
       "        text-align: right;\n",
       "    }\n",
       "</style>\n",
       "<table border=\"1\" class=\"dataframe\">\n",
       "  <thead>\n",
       "    <tr style=\"text-align: right;\">\n",
       "      <th></th>\n",
       "      <th>x1</th>\n",
       "      <th>x2</th>\n",
       "      <th>x3</th>\n",
       "    </tr>\n",
       "  </thead>\n",
       "  <tbody>\n",
       "    <tr>\n",
       "      <th>0</th>\n",
       "      <td>0.320592</td>\n",
       "      <td>0.776009</td>\n",
       "      <td>0.748636</td>\n",
       "    </tr>\n",
       "    <tr>\n",
       "      <th>1</th>\n",
       "      <td>0.184702</td>\n",
       "      <td>0.971903</td>\n",
       "      <td>0.645125</td>\n",
       "    </tr>\n",
       "    <tr>\n",
       "      <th>2</th>\n",
       "      <td>0.761260</td>\n",
       "      <td>0.538834</td>\n",
       "      <td>0.458583</td>\n",
       "    </tr>\n",
       "    <tr>\n",
       "      <th>3</th>\n",
       "      <td>0.907357</td>\n",
       "      <td>0.715496</td>\n",
       "      <td>0.549570</td>\n",
       "    </tr>\n",
       "    <tr>\n",
       "      <th>4</th>\n",
       "      <td>0.426476</td>\n",
       "      <td>0.960240</td>\n",
       "      <td>0.504263</td>\n",
       "    </tr>\n",
       "  </tbody>\n",
       "</table>\n",
       "</div>"
      ],
      "text/plain": [
       "         x1        x2        x3\n",
       "0  0.320592  0.776009  0.748636\n",
       "1  0.184702  0.971903  0.645125\n",
       "2  0.761260  0.538834  0.458583\n",
       "3  0.907357  0.715496  0.549570\n",
       "4  0.426476  0.960240  0.504263"
      ]
     },
     "execution_count": 13,
     "metadata": {},
     "output_type": "execute_result"
    }
   ],
   "source": [
    "scaled_df = pd.DataFrame(scaled_df, columns=['x1', 'x2', 'x3'])\n",
    "scaled_df.head()"
   ]
  },
  {
   "cell_type": "markdown",
   "metadata": {
    "colab_type": "text",
    "id": "ek3R16pNzXS0"
   },
   "source": [
    "- **Plotting** the features **before** and **after Min-Max Scaling**."
   ]
  },
  {
   "cell_type": "code",
   "execution_count": 14,
   "metadata": {
    "colab": {
     "base_uri": "https://localhost:8080/",
     "height": 355
    },
    "colab_type": "code",
    "id": "nXontBoBaopf",
    "outputId": "7fb142a1-a3ad-45d9-a337-15baf1ebdf97"
   },
   "outputs": [
    {
     "data": {
      "text/plain": [
       "<AxesSubplot:title={'center':'After Min-Max Scaling'}, xlabel='x1', ylabel='Density'>"
      ]
     },
     "execution_count": 14,
     "metadata": {},
     "output_type": "execute_result"
    },
    {
     "data": {
      "image/png": "[encoded data removed]",
      "text/plain": [
       "<Figure size 432x360 with 2 Axes>"
      ]
     },
     "metadata": {
      "needs_background": "light"
     },
     "output_type": "display_data"
    }
   ],
   "source": [
    "fig, (ax1, ax2) = plt.subplots(ncols=2, figsize=(6, 5))\n",
    "\n",
    "ax1.set_title('Before Scaling')\n",
    "sns.kdeplot(df['x1'], ax=ax1)\n",
    "sns.kdeplot(df['x2'], ax=ax1)\n",
    "sns.kdeplot(df['x3'], ax=ax1)\n",
    "\n",
    "ax2.set_title('After Min-Max Scaling')\n",
    "sns.kdeplot(scaled_df['x1'], ax=ax2)\n",
    "sns.kdeplot(scaled_df['x2'], ax=ax2)\n",
    "sns.kdeplot(scaled_df['x3'], ax=ax2)"
   ]
  },
  {
   "cell_type": "markdown",
   "metadata": {
    "colab_type": "text",
    "id": "fqdE2n8QcvRW"
   },
   "source": [
    "- The **skewness** of the **distribution** is **maintained** but the **3 distributions** are **brought** into the **same scale so** that they **overlap**."
   ]
  },
  {
   "cell_type": "markdown",
   "metadata": {
    "colab_type": "text",
    "id": "o9qYIRspaGhz"
   },
   "source": [
    "<a id = Section4></a>\n",
    "### **4. Robust Scaling**"
   ]
  },
  {
   "cell_type": "markdown",
   "metadata": {
    "colab_type": "text",
    "id": "1rp_QHgzcS5i"
   },
   "source": [
    "- The RobustScaler uses a **similar method** to the **Min-Max scaler** but it instead uses the **interquartile range**, **rather** than the **min-max**, so that it is **robust to outliers**.\n",
    "\n",
    "- Of course this means it is **using** the **less** of the **data for scaling** so it’s **more suitable** for **when** there are **outliers in** the **data**."
   ]
  },
  {
   "cell_type": "markdown",
   "metadata": {
    "colab_type": "text",
    "id": "KWMFKAX4mUYk"
   },
   "source": [
    "- ### $x_{scaled} = \\dfrac{x_i – Q_2(x)}{Q_3(x) – Q_1(x)}$"
   ]
  },
  {
   "cell_type": "code",
   "execution_count": 15,
   "metadata": {
    "colab": {},
    "colab_type": "code",
    "id": "PNCaenn3aoD5"
   },
   "outputs": [],
   "source": [
    "from sklearn.preprocessing import RobustScaler"
   ]
  },
  {
   "cell_type": "code",
   "execution_count": 16,
   "metadata": {
    "colab": {},
    "colab_type": "code",
    "id": "qSOjvTO4an_D"
   },
   "outputs": [],
   "source": [
    "x = pd.DataFrame({# Distribution with lower outliers\n",
    "                  'x1': np.concatenate([np.random.normal(20, 1, 1000), np.random.normal(1, 1, 25)]),\n",
    "                  # Distribution with higher outliers\n",
    "                  'x2': np.concatenate([np.random.normal(30, 1, 1000), np.random.normal(50, 1, 25)]),})"
   ]
  },
  {
   "cell_type": "markdown",
   "metadata": {
    "colab_type": "text",
    "id": "Vp5QlbPhzYy7"
   },
   "source": [
    "- **Creating** the **RobustScaler** object and **fitting** it on our dataframe."
   ]
  },
  {
   "cell_type": "code",
   "execution_count": 17,
   "metadata": {
    "colab": {},
    "colab_type": "code",
    "id": "_YLrDVPfcZVn"
   },
   "outputs": [],
   "source": [
    "scaler = RobustScaler()\n",
    "robust_scaled_df = scaler.fit_transform(x)"
   ]
  },
  {
   "cell_type": "code",
   "execution_count": 18,
   "metadata": {
    "colab": {
     "base_uri": "https://localhost:8080/",
     "height": 195
    },
    "colab_type": "code",
    "id": "ET87jJhIcjQw",
    "outputId": "67670fbf-8026-4e69-d239-e14c6d0616c8"
   },
   "outputs": [
    {
     "data": {
      "text/html": [
       "<div>\n",
       "<style scoped>\n",
       "    .dataframe tbody tr th:only-of-type {\n",
       "        vertical-align: middle;\n",
       "    }\n",
       "\n",
       "    .dataframe tbody tr th {\n",
       "        vertical-align: top;\n",
       "    }\n",
       "\n",
       "    .dataframe thead th {\n",
       "        text-align: right;\n",
       "    }\n",
       "</style>\n",
       "<table border=\"1\" class=\"dataframe\">\n",
       "  <thead>\n",
       "    <tr style=\"text-align: right;\">\n",
       "      <th></th>\n",
       "      <th>x1</th>\n",
       "      <th>x2</th>\n",
       "    </tr>\n",
       "  </thead>\n",
       "  <tbody>\n",
       "    <tr>\n",
       "      <th>0</th>\n",
       "      <td>0.946526</td>\n",
       "      <td>0.203267</td>\n",
       "    </tr>\n",
       "    <tr>\n",
       "      <th>1</th>\n",
       "      <td>0.319729</td>\n",
       "      <td>-0.692477</td>\n",
       "    </tr>\n",
       "    <tr>\n",
       "      <th>2</th>\n",
       "      <td>0.317499</td>\n",
       "      <td>-0.612932</td>\n",
       "    </tr>\n",
       "    <tr>\n",
       "      <th>3</th>\n",
       "      <td>-1.691723</td>\n",
       "      <td>0.231172</td>\n",
       "    </tr>\n",
       "    <tr>\n",
       "      <th>4</th>\n",
       "      <td>0.380490</td>\n",
       "      <td>-0.924403</td>\n",
       "    </tr>\n",
       "  </tbody>\n",
       "</table>\n",
       "</div>"
      ],
      "text/plain": [
       "         x1        x2\n",
       "0  0.946526  0.203267\n",
       "1  0.319729 -0.692477\n",
       "2  0.317499 -0.612932\n",
       "3 -1.691723  0.231172\n",
       "4  0.380490 -0.924403"
      ]
     },
     "execution_count": 18,
     "metadata": {},
     "output_type": "execute_result"
    }
   ],
   "source": [
    "robust_scaled_df = pd.DataFrame(robust_scaled_df, columns=['x1', 'x2'])\n",
    "robust_scaled_df.head()"
   ]
  },
  {
   "cell_type": "markdown",
   "metadata": {
    "colab_type": "text",
    "id": "SMPxmXMv00rX"
   },
   "source": [
    "- **Creating** the **MinMaxScaler** object and **fitting** it on our dataframe."
   ]
  },
  {
   "cell_type": "code",
   "execution_count": 19,
   "metadata": {
    "colab": {},
    "colab_type": "code",
    "id": "G0w433-NckUj"
   },
   "outputs": [],
   "source": [
    "scaler = MinMaxScaler()\n",
    "minmax_scaled_df = scaler.fit_transform(x)"
   ]
  },
  {
   "cell_type": "code",
   "execution_count": 20,
   "metadata": {
    "colab": {
     "base_uri": "https://localhost:8080/",
     "height": 195
    },
    "colab_type": "code",
    "id": "PgKsf8g5coe0",
    "outputId": "9b6a5347-8c6c-4aa5-9ece-748934bec5d9"
   },
   "outputs": [
    {
     "data": {
      "text/html": [
       "<div>\n",
       "<style scoped>\n",
       "    .dataframe tbody tr th:only-of-type {\n",
       "        vertical-align: middle;\n",
       "    }\n",
       "\n",
       "    .dataframe tbody tr th {\n",
       "        vertical-align: top;\n",
       "    }\n",
       "\n",
       "    .dataframe thead th {\n",
       "        text-align: right;\n",
       "    }\n",
       "</style>\n",
       "<table border=\"1\" class=\"dataframe\">\n",
       "  <thead>\n",
       "    <tr style=\"text-align: right;\">\n",
       "      <th></th>\n",
       "      <th>x1</th>\n",
       "      <th>x2</th>\n",
       "    </tr>\n",
       "  </thead>\n",
       "  <tbody>\n",
       "    <tr>\n",
       "      <th>0</th>\n",
       "      <td>0.922261</td>\n",
       "      <td>0.125539</td>\n",
       "    </tr>\n",
       "    <tr>\n",
       "      <th>1</th>\n",
       "      <td>0.888763</td>\n",
       "      <td>0.069703</td>\n",
       "    </tr>\n",
       "    <tr>\n",
       "      <th>2</th>\n",
       "      <td>0.888644</td>\n",
       "      <td>0.074662</td>\n",
       "    </tr>\n",
       "    <tr>\n",
       "      <th>3</th>\n",
       "      <td>0.781266</td>\n",
       "      <td>0.127279</td>\n",
       "    </tr>\n",
       "    <tr>\n",
       "      <th>4</th>\n",
       "      <td>0.892010</td>\n",
       "      <td>0.055246</td>\n",
       "    </tr>\n",
       "  </tbody>\n",
       "</table>\n",
       "</div>"
      ],
      "text/plain": [
       "         x1        x2\n",
       "0  0.922261  0.125539\n",
       "1  0.888763  0.069703\n",
       "2  0.888644  0.074662\n",
       "3  0.781266  0.127279\n",
       "4  0.892010  0.055246"
      ]
     },
     "execution_count": 20,
     "metadata": {},
     "output_type": "execute_result"
    }
   ],
   "source": [
    "minmax_scaled_df = pd.DataFrame(minmax_scaled_df, columns=['x1', 'x2'])\n",
    "minmax_scaled_df.head()"
   ]
  },
  {
   "cell_type": "markdown",
   "metadata": {
    "colab_type": "text",
    "id": "8zCNwYRpzYy7"
   },
   "source": [
    "- **Plotting** the features **before** and **after Scaling**."
   ]
  },
  {
   "cell_type": "code",
   "execution_count": 21,
   "metadata": {
    "colab": {
     "base_uri": "https://localhost:8080/",
     "height": 355
    },
    "colab_type": "code",
    "id": "TkYA4l0RcZQh",
    "outputId": "79f74a52-1db6-45f3-a0f1-5f5a8da4f2a4"
   },
   "outputs": [
    {
     "data": {
      "text/plain": [
       "<AxesSubplot:title={'center':'After Min-Max Scaling'}, xlabel='x1', ylabel='Density'>"
      ]
     },
     "execution_count": 21,
     "metadata": {},
     "output_type": "execute_result"
    },
    {
     "data": {
      "image/png": "[encoded data removed]",
      "text/plain": [
       "<Figure size 648x360 with 3 Axes>"
      ]
     },
     "metadata": {
      "needs_background": "light"
     },
     "output_type": "display_data"
    }
   ],
   "source": [
    "fig, (ax1, ax2, ax3) = plt.subplots(ncols=3, figsize=(9, 5))\n",
    "\n",
    "ax1.set_title('Before Scaling')\n",
    "sns.kdeplot(x['x1'], ax=ax1)\n",
    "sns.kdeplot(x['x2'], ax=ax1)\n",
    "\n",
    "ax2.set_title('After Robust Scaling')\n",
    "sns.kdeplot(robust_scaled_df['x1'], ax=ax2)\n",
    "sns.kdeplot(robust_scaled_df['x2'], ax=ax2)\n",
    "\n",
    "ax3.set_title('After Min-Max Scaling')\n",
    "sns.kdeplot(minmax_scaled_df['x1'], ax=ax3)\n",
    "sns.kdeplot(minmax_scaled_df['x2'], ax=ax3)"
   ]
  },
  {
   "cell_type": "markdown",
   "metadata": {
    "colab_type": "text",
    "id": "BQt96acFct_b"
   },
   "source": [
    "- **After Robust scaling**, the **distributions** are **brought into** the **same scale and overlap**, but the **outliers** remain **outside** of **bulk** of the **new distributions**.\n",
    "\n",
    "- However, **in Min-Max scaling**, the **two normal distributions** are kept **seperate by** the **outliers** that are **inside** the **0-1 range**."
   ]
  },
  {
   "cell_type": "markdown",
   "metadata": {
    "colab_type": "text",
    "id": "ExQtxu8Yakbl"
   },
   "source": [
    "<a id = Section5></a>\n",
    "### **5. MaxAbs Scaling**"
   ]
  },
  {
   "cell_type": "markdown",
   "metadata": {
    "colab_type": "text",
    "id": "bHnlaqfA1SP_"
   },
   "source": [
    "- It **scales** each feature by its **maximum absolute value**.\n",
    "\n",
    "- This estimator **scales and translates** each feature individually such that the **maximal absolute value** of each feature in the **training set** will be **1.0**.\n",
    "\n",
    "- The **absolute values** are **mapped** in the **range [0, 1]**.\n",
    "\n",
    "- On **positive only data**, this scaler **behaves similarly** to **MinMaxScaler** and therefore also **suffers** from the **presence** of large **outliers**.\n"
   ]
  },
  {
   "cell_type": "code",
   "execution_count": 22,
   "metadata": {
    "colab": {},
    "colab_type": "code",
    "id": "TnaBH5Kew-Y6"
   },
   "outputs": [],
   "source": [
    "from sklearn.preprocessing import MaxAbsScaler"
   ]
  },
  {
   "cell_type": "code",
   "execution_count": 23,
   "metadata": {
    "colab": {},
    "colab_type": "code",
    "id": "uZCA-xU8eyc4"
   },
   "outputs": [],
   "source": [
    "df = pd.DataFrame({'x1': np.random.chisquare(8, 1000),\n",
    "                   'x2': np.random.beta(8, 2, 1000) * 40,\n",
    "                   'x3': np.random.normal(50, 3, 1000)})"
   ]
  },
  {
   "cell_type": "code",
   "execution_count": 24,
   "metadata": {
    "colab": {
     "base_uri": "https://localhost:8080/",
     "height": 195
    },
    "colab_type": "code",
    "id": "45lZjJJWeyc8",
    "outputId": "a38cbc6b-1d4a-4924-de09-ad2b954fbd3d"
   },
   "outputs": [
    {
     "data": {
      "text/html": [
       "<div>\n",
       "<style scoped>\n",
       "    .dataframe tbody tr th:only-of-type {\n",
       "        vertical-align: middle;\n",
       "    }\n",
       "\n",
       "    .dataframe tbody tr th {\n",
       "        vertical-align: top;\n",
       "    }\n",
       "\n",
       "    .dataframe thead th {\n",
       "        text-align: right;\n",
       "    }\n",
       "</style>\n",
       "<table border=\"1\" class=\"dataframe\">\n",
       "  <thead>\n",
       "    <tr style=\"text-align: right;\">\n",
       "      <th></th>\n",
       "      <th>x1</th>\n",
       "      <th>x2</th>\n",
       "      <th>x3</th>\n",
       "    </tr>\n",
       "  </thead>\n",
       "  <tbody>\n",
       "    <tr>\n",
       "      <th>0</th>\n",
       "      <td>15.486707</td>\n",
       "      <td>22.852118</td>\n",
       "      <td>49.555446</td>\n",
       "    </tr>\n",
       "    <tr>\n",
       "      <th>1</th>\n",
       "      <td>2.677518</td>\n",
       "      <td>33.867318</td>\n",
       "      <td>47.150287</td>\n",
       "    </tr>\n",
       "    <tr>\n",
       "      <th>2</th>\n",
       "      <td>4.690685</td>\n",
       "      <td>37.409593</td>\n",
       "      <td>48.482393</td>\n",
       "    </tr>\n",
       "    <tr>\n",
       "      <th>3</th>\n",
       "      <td>3.990793</td>\n",
       "      <td>36.927796</td>\n",
       "      <td>51.641221</td>\n",
       "    </tr>\n",
       "    <tr>\n",
       "      <th>4</th>\n",
       "      <td>12.037261</td>\n",
       "      <td>36.510997</td>\n",
       "      <td>48.469857</td>\n",
       "    </tr>\n",
       "  </tbody>\n",
       "</table>\n",
       "</div>"
      ],
      "text/plain": [
       "          x1         x2         x3\n",
       "0  15.486707  22.852118  49.555446\n",
       "1   2.677518  33.867318  47.150287\n",
       "2   4.690685  37.409593  48.482393\n",
       "3   3.990793  36.927796  51.641221\n",
       "4  12.037261  36.510997  48.469857"
      ]
     },
     "execution_count": 24,
     "metadata": {},
     "output_type": "execute_result"
    }
   ],
   "source": [
    "df.head()"
   ]
  },
  {
   "cell_type": "markdown",
   "metadata": {
    "colab_type": "text",
    "id": "WIibEdK33Ve7"
   },
   "source": [
    "- **Creating** the **MaxAbsScaler** object and **fitting** it on our dataframe."
   ]
  },
  {
   "cell_type": "code",
   "execution_count": 25,
   "metadata": {
    "colab": {},
    "colab_type": "code",
    "id": "mj3EH75deyc_"
   },
   "outputs": [],
   "source": [
    "scaler = MaxAbsScaler()\n",
    "scaled_df = scaler.fit_transform(df)"
   ]
  },
  {
   "cell_type": "code",
   "execution_count": 26,
   "metadata": {
    "colab": {
     "base_uri": "https://localhost:8080/",
     "height": 195
    },
    "colab_type": "code",
    "id": "BXmMg4KmeydC",
    "outputId": "1dc9b111-4fcf-481a-aeb5-83fcecd39c03"
   },
   "outputs": [
    {
     "data": {
      "text/html": [
       "<div>\n",
       "<style scoped>\n",
       "    .dataframe tbody tr th:only-of-type {\n",
       "        vertical-align: middle;\n",
       "    }\n",
       "\n",
       "    .dataframe tbody tr th {\n",
       "        vertical-align: top;\n",
       "    }\n",
       "\n",
       "    .dataframe thead th {\n",
       "        text-align: right;\n",
       "    }\n",
       "</style>\n",
       "<table border=\"1\" class=\"dataframe\">\n",
       "  <thead>\n",
       "    <tr style=\"text-align: right;\">\n",
       "      <th></th>\n",
       "      <th>x1</th>\n",
       "      <th>x2</th>\n",
       "      <th>x3</th>\n",
       "    </tr>\n",
       "  </thead>\n",
       "  <tbody>\n",
       "    <tr>\n",
       "      <th>0</th>\n",
       "      <td>0.652957</td>\n",
       "      <td>0.574492</td>\n",
       "      <td>0.834145</td>\n",
       "    </tr>\n",
       "    <tr>\n",
       "      <th>1</th>\n",
       "      <td>0.112891</td>\n",
       "      <td>0.851410</td>\n",
       "      <td>0.793660</td>\n",
       "    </tr>\n",
       "    <tr>\n",
       "      <th>2</th>\n",
       "      <td>0.197771</td>\n",
       "      <td>0.940461</td>\n",
       "      <td>0.816082</td>\n",
       "    </tr>\n",
       "    <tr>\n",
       "      <th>3</th>\n",
       "      <td>0.168261</td>\n",
       "      <td>0.928349</td>\n",
       "      <td>0.869253</td>\n",
       "    </tr>\n",
       "    <tr>\n",
       "      <th>4</th>\n",
       "      <td>0.507520</td>\n",
       "      <td>0.917871</td>\n",
       "      <td>0.815871</td>\n",
       "    </tr>\n",
       "  </tbody>\n",
       "</table>\n",
       "</div>"
      ],
      "text/plain": [
       "         x1        x2        x3\n",
       "0  0.652957  0.574492  0.834145\n",
       "1  0.112891  0.851410  0.793660\n",
       "2  0.197771  0.940461  0.816082\n",
       "3  0.168261  0.928349  0.869253\n",
       "4  0.507520  0.917871  0.815871"
      ]
     },
     "execution_count": 26,
     "metadata": {},
     "output_type": "execute_result"
    }
   ],
   "source": [
    "scaled_df = pd.DataFrame(scaled_df, columns=['x1', 'x2', 'x3'])\n",
    "scaled_df.head()"
   ]
  },
  {
   "cell_type": "markdown",
   "metadata": {
    "colab_type": "text",
    "id": "TRHS8zDA3Ve8"
   },
   "source": [
    "- **Plotting** the features **before** and **after Scaling**."
   ]
  },
  {
   "cell_type": "code",
   "execution_count": 27,
   "metadata": {
    "colab": {
     "base_uri": "https://localhost:8080/",
     "height": 355
    },
    "colab_type": "code",
    "id": "AsIAlekJeydF",
    "outputId": "e7d17c9c-de0f-4ff6-c429-7933862bfa35"
   },
   "outputs": [
    {
     "data": {
      "text/plain": [
       "<AxesSubplot:title={'center':'After MaxAbs Scaling'}, xlabel='x1', ylabel='Density'>"
      ]
     },
     "execution_count": 27,
     "metadata": {},
     "output_type": "execute_result"
    },
    {
     "data": {
      "image/png": "[encoded data removed]",
      "text/plain": [
       "<Figure size 432x360 with 2 Axes>"
      ]
     },
     "metadata": {
      "needs_background": "light"
     },
     "output_type": "display_data"
    }
   ],
   "source": [
    "fig, (ax1, ax2) = plt.subplots(ncols=2, figsize=(6, 5))\n",
    "\n",
    "ax1.set_title('Before Scaling')\n",
    "sns.kdeplot(df['x1'], ax=ax1)\n",
    "sns.kdeplot(df['x2'], ax=ax1)\n",
    "sns.kdeplot(df['x3'], ax=ax1)\n",
    "\n",
    "ax2.set_title('After MaxAbs Scaling')\n",
    "sns.kdeplot(scaled_df['x1'], ax=ax2)\n",
    "sns.kdeplot(scaled_df['x2'], ax=ax2)\n",
    "sns.kdeplot(scaled_df['x3'], ax=ax2)"
   ]
  },
  {
   "cell_type": "markdown",
   "metadata": {
    "colab_type": "text",
    "id": "VMGLJ8o_eydH"
   },
   "source": [
    "- All the features have values **between 0** and **1**."
   ]
  },
  {
   "cell_type": "markdown",
   "metadata": {
    "colab_type": "text",
    "id": "N3C-yU3CaIpr"
   },
   "source": [
    "<a id = Section6></a>\n",
    "### **6. Normalizing**"
   ]
  },
  {
   "cell_type": "markdown",
   "metadata": {
    "colab_type": "text",
    "id": "eKVbf-g61ehS"
   },
   "source": [
    "- The **normalizer scales** each value by d**ividing each value** by its **magnitude** in **n-dimensional space** for **n number of features**.\n",
    "\n",
    "- Say your features were **x**, **y** and **z** Cartesian co-ordinates your scaled value for x would be:"
   ]
  },
  {
   "cell_type": "markdown",
   "metadata": {
    "colab_type": "text",
    "id": "bk412_fS3ifz"
   },
   "source": [
    "- ### $x_{scaled} = \\dfrac{x_i}{\\sqrt{x_i^2 + y_i^2 + z_i^2}}$"
   ]
  },
  {
   "cell_type": "markdown",
   "metadata": {
    "colab_type": "text",
    "id": "yG_w9uiz1hlu"
   },
   "source": [
    "- **Each point** is now **within 1 unit** of the **origin** on this Cartesian coordinate system."
   ]
  },
  {
   "cell_type": "code",
   "execution_count": 28,
   "metadata": {
    "colab": {},
    "colab_type": "code",
    "id": "-aAxITWianem"
   },
   "outputs": [],
   "source": [
    "from mpl_toolkits.mplot3d import Axes3D"
   ]
  },
  {
   "cell_type": "code",
   "execution_count": 29,
   "metadata": {
    "colab": {},
    "colab_type": "code",
    "id": "DYSQTlSKc1X4"
   },
   "outputs": [],
   "source": [
    "from sklearn.preprocessing import Normalizer"
   ]
  },
  {
   "cell_type": "code",
   "execution_count": 30,
   "metadata": {
    "colab": {},
    "colab_type": "code",
    "id": "rhCMtHPVc8bP"
   },
   "outputs": [],
   "source": [
    "df = pd.DataFrame({'x1': np.random.randint(-100, 100, 1000).astype(float),\n",
    "                   'y1': np.random.randint(-80, 80, 1000).astype(float),\n",
    "                   'z1': np.random.randint(-150, 150, 1000).astype(float),})"
   ]
  },
  {
   "cell_type": "markdown",
   "metadata": {
    "colab_type": "text",
    "id": "zhOdVGDb3dnL"
   },
   "source": [
    "- **Creating** the **Normalizer** object and **fitting** it on our dataframe."
   ]
  },
  {
   "cell_type": "code",
   "execution_count": 31,
   "metadata": {
    "colab": {},
    "colab_type": "code",
    "id": "arczQ803c8VF"
   },
   "outputs": [],
   "source": [
    "scaler = Normalizer()\n",
    "scaled_df = scaler.fit_transform(df)"
   ]
  },
  {
   "cell_type": "code",
   "execution_count": 32,
   "metadata": {
    "colab": {
     "base_uri": "https://localhost:8080/",
     "height": 195
    },
    "colab_type": "code",
    "id": "wKFl1TRFc8P5",
    "outputId": "91f17b2d-ff6d-44f4-c864-ef6ea74fbf72"
   },
   "outputs": [
    {
     "data": {
      "text/html": [
       "<div>\n",
       "<style scoped>\n",
       "    .dataframe tbody tr th:only-of-type {\n",
       "        vertical-align: middle;\n",
       "    }\n",
       "\n",
       "    .dataframe tbody tr th {\n",
       "        vertical-align: top;\n",
       "    }\n",
       "\n",
       "    .dataframe thead th {\n",
       "        text-align: right;\n",
       "    }\n",
       "</style>\n",
       "<table border=\"1\" class=\"dataframe\">\n",
       "  <thead>\n",
       "    <tr style=\"text-align: right;\">\n",
       "      <th></th>\n",
       "      <th>x1</th>\n",
       "      <th>y1</th>\n",
       "      <th>z1</th>\n",
       "    </tr>\n",
       "  </thead>\n",
       "  <tbody>\n",
       "    <tr>\n",
       "      <th>0</th>\n",
       "      <td>-0.339096</td>\n",
       "      <td>0.137081</td>\n",
       "      <td>-0.930711</td>\n",
       "    </tr>\n",
       "    <tr>\n",
       "      <th>1</th>\n",
       "      <td>0.466713</td>\n",
       "      <td>0.395520</td>\n",
       "      <td>0.791039</td>\n",
       "    </tr>\n",
       "    <tr>\n",
       "      <th>2</th>\n",
       "      <td>-0.737228</td>\n",
       "      <td>-0.560934</td>\n",
       "      <td>0.376627</td>\n",
       "    </tr>\n",
       "    <tr>\n",
       "      <th>3</th>\n",
       "      <td>0.447744</td>\n",
       "      <td>0.241093</td>\n",
       "      <td>0.861046</td>\n",
       "    </tr>\n",
       "    <tr>\n",
       "      <th>4</th>\n",
       "      <td>0.749512</td>\n",
       "      <td>-0.504774</td>\n",
       "      <td>-0.428293</td>\n",
       "    </tr>\n",
       "  </tbody>\n",
       "</table>\n",
       "</div>"
      ],
      "text/plain": [
       "         x1        y1        z1\n",
       "0 -0.339096  0.137081 -0.930711\n",
       "1  0.466713  0.395520  0.791039\n",
       "2 -0.737228 -0.560934  0.376627\n",
       "3  0.447744  0.241093  0.861046\n",
       "4  0.749512 -0.504774 -0.428293"
      ]
     },
     "execution_count": 32,
     "metadata": {},
     "output_type": "execute_result"
    }
   ],
   "source": [
    "scaled_df = pd.DataFrame(scaled_df, columns=df.columns)\n",
    "scaled_df.head()"
   ]
  },
  {
   "cell_type": "markdown",
   "metadata": {
    "colab_type": "text",
    "id": "mO_Ey0KT3gzd"
   },
   "source": [
    "- **Plotting** the values **before** and **after normalizing**."
   ]
  },
  {
   "cell_type": "code",
   "execution_count": 33,
   "metadata": {
    "colab": {
     "base_uri": "https://localhost:8080/",
     "height": 320
    },
    "colab_type": "code",
    "id": "x0OIyGneanZY",
    "outputId": "068f2f53-f2c5-46b7-df4e-1fcbb5b65633"
   },
   "outputs": [
    {
     "data": {
      "text/plain": [
       "<mpl_toolkits.mplot3d.art3d.Path3DCollection at 0x19412e36ac8>"
      ]
     },
     "execution_count": 33,
     "metadata": {},
     "output_type": "execute_result"
    },
    {
     "data": {
      "image/png": "[encoded data removed]",
      "text/plain": [
       "<Figure size 648x360 with 2 Axes>"
      ]
     },
     "metadata": {
      "needs_background": "light"
     },
     "output_type": "display_data"
    }
   ],
   "source": [
    "fig = plt.figure(figsize=(9, 5))\n",
    "\n",
    "ax1 = fig.add_subplot(121, projection='3d')\n",
    "ax2 = fig.add_subplot(122, projection='3d')\n",
    "ax1.scatter(df['x1'], df['y1'], df['z1'])\n",
    "ax2.scatter(scaled_df['x1'], scaled_df['y1'], scaled_df['z1'])"
   ]
  },
  {
   "cell_type": "markdown",
   "metadata": {
    "colab_type": "text",
    "id": "qkOMsx6QdFad"
   },
   "source": [
    "- The **points** are all **brought within a sphere** that is **at most 1 away from** the **origin** at any point.\n",
    "\n",
    "- Also, the **axes** that were previously **different scales** are now **all one scale**."
   ]
  }
 ],
 "metadata": {
  "colab": {
   "collapsed_sections": [],
   "name": "Feature Scaling.ipynb",
   "provenance": [],
   "toc_visible": true
  },
  "kernelspec": {
   "display_name": "Python 3 (ipykernel)",
   "language": "python",
   "name": "python3"
  },
  "language_info": {
   "codemirror_mode": {
    "name": "ipython",
    "version": 3
   },
   "file_extension": ".py",
   "mimetype": "text/x-python",
   "name": "python",
   "nbconvert_exporter": "python",
   "pygments_lexer": "ipython3",
   "version": "3.9.7"
  }
 },
 "nbformat": 4,
 "nbformat_minor": 1
}
